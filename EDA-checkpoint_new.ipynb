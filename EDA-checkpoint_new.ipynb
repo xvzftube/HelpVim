{
 "cells": [
  {
   "cell_type": "code",
   "execution_count": 1,
   "id": "39deef63",
   "metadata": {},
   "outputs": [],
   "source": [
    "import pandas as pd\n",
    "import numpy as np\n",
    "import matplotlib.pyplot as plt\n",
    "from matplotlib.backends.backend_pdf import PdfPages\n",
    "import seaborn as sns\n",
    "%matplotlib inline\n",
    "import datetime\n",
    "from ipywidgets import widgets\n",
    "import matplotlib.image as mpimg\n",
    "import os\n",
    "\n",
    "import matplotlib\n",
    "import scipy as scipy\n",
    "import matplotlib.pyplot as plt\n",
    "from matplotlib.backends.backend_pdf import PdfPages\n",
    "from PIL import Image\n",
    "from pylab import *\n",
    "import matplotlib.patches as ptch\n",
    "import datetime as dt\n",
    "import matplotlib.dates as mdates\n",
    "from statsmodels.distributions.empirical_distribution import ECDF\n",
    "from matplotlib.ticker import (MultipleLocator, AutoMinorLocator)\n",
    "\n",
    "\n"
   ]
  },
  {
   "cell_type": "code",
   "execution_count": 2,
   "id": "38242847",
   "metadata": {},
   "outputs": [
    {
     "name": "stdout",
     "output_type": "stream",
     "text": [
      "Project folder: /Users/bekzatajan/Job_ISWS/Bekzat_Python/Latest/\n",
      "\n",
      "File you've chosen: CREP_DB.xlsx; Parameter & Station Names_CREP.xlsx\n",
      "\n",
      "Ouput dir is: /Users/bekzatajan/Job_ISWS/Bekzat_Python/Latest/Output/CREP\n",
      "\n"
     ]
    }
   ],
   "source": [
    "os.getcwd()\n",
    "#Put the directory where you have the xlsx files and figures:\n",
    "MasterDir=\"/Users/bekzatajan/Job_ISWS/Bekzat_Python/Latest/\"\n",
    "InputDir=MasterDir+\"Input/\"\n",
    "\n",
    "DidChoose=False\n",
    "\n",
    "if(DidChoose==True):\n",
    "    WhatChose=[20500110, 2, 3]\n",
    "    \n",
    "    \n",
    "           #AUTO GRAB BSMP CREP FOX SQL:\n",
    "OptionForFileUse=3 #CHOOSE FROM THE PREVIOUS LINE (0-5)<<\n",
    "\n",
    "FileNameIs=[\"ICoastalDB_SQL_out_AUTO_pid_WQ.xlsx\",\n",
    "            \"ICoastalDB_SQL_out_GRAB_pid_WQ.xlsx\",\n",
    "            \"BSMP_DB.xlsx\",\n",
    "            \"CREP_DB.xlsx\",\n",
    "            \"FOX_DB.xlsx\",\n",
    "            \"sql_output.xlsx\"]\n",
    "\n",
    "OutputFoldNames=[\"AUTO\", \"GRAB\", \"BSMP\", \"CREP\", \"FOX\", \"SQL\"]\n",
    "OutputDir=MasterDir+\"Output/\"+OutputFoldNames[OptionForFileUse]\n",
    "ParStFileNamesEnds=[\"_revised\",\"_revised\",\"_BSMP\",\"_CREP\",\"_FOX\",\"_revised\"]\n",
    "FileNameChosen=FileNameIs[OptionForFileUse]\n",
    "ParStFileName=\"Parameter & Station Names\"+ParStFileNamesEnds[OptionForFileUse]+\".xlsx\"\n",
    "\n",
    "print(\"Project folder: \" + MasterDir+\"\\n\")\n",
    "print(\"File you've chosen: \"+FileNameChosen+\"; \"+ParStFileName+\"\\n\")\n",
    "print(\"Ouput dir is: \" + OutputDir+\"\\n\")\n",
    "\n",
    "os.chdir(InputDir) "
   ]
  },
  {
   "cell_type": "code",
   "execution_count": 3,
   "id": "73941d58",
   "metadata": {},
   "outputs": [],
   "source": [
    "if(OutputFoldNames[OptionForFileUse]==\"BSMP\"):\n",
    "    data = pd.read_excel(FileNameChosen,sheet_name='Sheet1')\n",
    "else:\n",
    "    data = pd.read_excel(FileNameChosen)\n",
    "        \n",
    "#data = pd.read_excel(r\"/Users/bekzatajan/Job_ISWS/Bekzat_Python/Latest/Input/sql_output.xlsx\")\n",
    "data1 = pd.read_excel(ParStFileName)\n",
    "data=pd.merge(data,data1,on='record_code',how='left')\n",
    "data = data.replace(np.nan, '', regex=True)"
   ]
  },
  {
   "cell_type": "code",
   "execution_count": 4,
   "id": "exposed-palestine",
   "metadata": {},
   "outputs": [
    {
     "data": {
      "text/plain": [
       "record_code                         int64\n",
       "Sample_ID                          object\n",
       "Start_Date                 datetime64[ns]\n",
       "Missing_Time                       object\n",
       "parameter                          object\n",
       "Operator                           object\n",
       "Result_Value                       object\n",
       "Reporting_Limit                    object\n",
       "Remark_Code                        object\n",
       "remark_description                 object\n",
       "sample_comment                     object\n",
       "result_comments                    object\n",
       "Sample_Type_Description            object\n",
       "Station_ID                          int64\n",
       "Alias                              object\n",
       "Latitude                          float64\n",
       "Longitude                         float64\n",
       "waterbody                          object\n",
       "Assesment_ID                       object\n",
       "Basin_ID                           object\n",
       "Org_ID                             object\n",
       "ParameterPlotName                  object\n",
       "EDA_PlotsTitle                     object\n",
       "WQ_NWQ                             object\n",
       "dtype: object"
      ]
     },
     "execution_count": 4,
     "metadata": {},
     "output_type": "execute_result"
    }
   ],
   "source": [
    "#Draft cell for bekzat:\n",
    "data.dtypes"
   ]
  },
  {
   "cell_type": "code",
   "execution_count": 5,
   "id": "506d094b",
   "metadata": {},
   "outputs": [],
   "source": [
    "#data['year'] = pd.DatetimeIndex(data['Start_Date']).year\n",
    "data['Start_Date'] = pd.to_datetime(data['Start_Date'])\n",
    "\n",
    "# You can format your date as you wish\n",
    "#data['Mon_Year'] = data['Start_Date'].dt.strftime('%b-%Y')\n",
    "#data['Mon_Year'] = data['Start_Date'].dt.strftime('%m/%y')\n",
    "data['Mon_Year'] = data['Start_Date'].dt.strftime('%d/%m/%y')\n",
    "data['Month'] = data['Start_Date'].dt.strftime('%b')\n",
    "data['Year'] = data['Start_Date'].dt.strftime('%Y')\n",
    "\n",
    "#df['Month'] = df['ArrivalDate'].values.astype('datetime64[M]')\n"
   ]
  },
  {
   "cell_type": "code",
   "execution_count": 6,
   "id": "e7846c8b",
   "metadata": {},
   "outputs": [],
   "source": [
    "data['ParameterPlotName'] = data['ParameterPlotName'].str.replace('0','°')\n",
    "data['EDA_PlotsTitle'] = data['EDA_PlotsTitle'].str.replace('0C','°C')"
   ]
  },
  {
   "cell_type": "code",
   "execution_count": 7,
   "id": "13d31b6b",
   "metadata": {},
   "outputs": [
    {
     "data": {
      "text/plain": [
       "record_code                         int64\n",
       "Sample_ID                          object\n",
       "Start_Date                 datetime64[ns]\n",
       "Missing_Time                       object\n",
       "parameter                          object\n",
       "Operator                           object\n",
       "Result_Value                       object\n",
       "Reporting_Limit                    object\n",
       "Remark_Code                        object\n",
       "remark_description                 object\n",
       "sample_comment                     object\n",
       "result_comments                    object\n",
       "Sample_Type_Description            object\n",
       "Station_ID                          int64\n",
       "Alias                              object\n",
       "Latitude                          float64\n",
       "Longitude                         float64\n",
       "waterbody                          object\n",
       "Assesment_ID                       object\n",
       "Basin_ID                           object\n",
       "Org_ID                             object\n",
       "ParameterPlotName                  object\n",
       "EDA_PlotsTitle                     object\n",
       "WQ_NWQ                             object\n",
       "Mon_Year                           object\n",
       "Month                              object\n",
       "Year                               object\n",
       "dtype: object"
      ]
     },
     "execution_count": 7,
     "metadata": {},
     "output_type": "execute_result"
    }
   ],
   "source": [
    "data.dtypes"
   ]
  },
  {
   "cell_type": "code",
   "execution_count": 8,
   "id": "6ad1f639",
   "metadata": {},
   "outputs": [],
   "source": [
    "data[\"record_code\"] = data[\"record_code\"].astype(str)\n",
    "data=data[data['Result_Value'].notna()]\n",
    "data[\"Result_Value\"] = pd.to_numeric(data.Result_Value, errors='coerce')\n",
    "\n",
    "#np.arange(data[\"Mon_Year\"][0], data[\"Mon_Year\"][16000], 8000)\n",
    "#data[\"Mon_Year\"][0]"
   ]
  },
  {
   "cell_type": "code",
   "execution_count": 9,
   "id": "a1f2e3a8",
   "metadata": {},
   "outputs": [
    {
     "name": "stdout",
     "output_type": "stream",
     "text": [
      "20100001\n"
     ]
    },
    {
     "ename": "KeyboardInterrupt",
     "evalue": "",
     "output_type": "error",
     "traceback": [
      "\u001b[0;31m---------------------------------------------------------------------------\u001b[0m",
      "\u001b[0;31mTypeError\u001b[0m                                 Traceback (most recent call last)",
      "\u001b[0;32m/Library/Frameworks/Python.framework/Versions/3.9/lib/python3.9/site-packages/pandas/core/series.py\u001b[0m in \u001b[0;36m__setitem__\u001b[0;34m(self, key, value)\u001b[0m\n\u001b[1;32m   1061\u001b[0m         \u001b[0;32mtry\u001b[0m\u001b[0;34m:\u001b[0m\u001b[0;34m\u001b[0m\u001b[0;34m\u001b[0m\u001b[0m\n\u001b[0;32m-> 1062\u001b[0;31m             \u001b[0mself\u001b[0m\u001b[0;34m.\u001b[0m\u001b[0m_set_with_engine\u001b[0m\u001b[0;34m(\u001b[0m\u001b[0mkey\u001b[0m\u001b[0;34m,\u001b[0m \u001b[0mvalue\u001b[0m\u001b[0;34m)\u001b[0m\u001b[0;34m\u001b[0m\u001b[0;34m\u001b[0m\u001b[0m\n\u001b[0m\u001b[1;32m   1063\u001b[0m         \u001b[0;32mexcept\u001b[0m \u001b[0;34m(\u001b[0m\u001b[0mKeyError\u001b[0m\u001b[0;34m,\u001b[0m \u001b[0mValueError\u001b[0m\u001b[0;34m)\u001b[0m\u001b[0;34m:\u001b[0m\u001b[0;34m\u001b[0m\u001b[0;34m\u001b[0m\u001b[0m\n",
      "\u001b[0;32m/Library/Frameworks/Python.framework/Versions/3.9/lib/python3.9/site-packages/pandas/core/series.py\u001b[0m in \u001b[0;36m_set_with_engine\u001b[0;34m(self, key, value)\u001b[0m\n\u001b[1;32m   1094\u001b[0m         \u001b[0;31m# fails with AttributeError for IntervalIndex\u001b[0m\u001b[0;34m\u001b[0m\u001b[0;34m\u001b[0m\u001b[0;34m\u001b[0m\u001b[0m\n\u001b[0;32m-> 1095\u001b[0;31m         \u001b[0mloc\u001b[0m \u001b[0;34m=\u001b[0m \u001b[0mself\u001b[0m\u001b[0;34m.\u001b[0m\u001b[0mindex\u001b[0m\u001b[0;34m.\u001b[0m\u001b[0m_engine\u001b[0m\u001b[0;34m.\u001b[0m\u001b[0mget_loc\u001b[0m\u001b[0;34m(\u001b[0m\u001b[0mkey\u001b[0m\u001b[0;34m)\u001b[0m\u001b[0;34m\u001b[0m\u001b[0;34m\u001b[0m\u001b[0m\n\u001b[0m\u001b[1;32m   1096\u001b[0m         \u001b[0;31m# error: Argument 1 to \"validate_numeric_casting\" has incompatible type\u001b[0m\u001b[0;34m\u001b[0m\u001b[0;34m\u001b[0m\u001b[0;34m\u001b[0m\u001b[0m\n",
      "\u001b[0;32m/Library/Frameworks/Python.framework/Versions/3.9/lib/python3.9/site-packages/pandas/_libs/index.pyx\u001b[0m in \u001b[0;36mpandas._libs.index.IndexEngine.get_loc\u001b[0;34m()\u001b[0m\n",
      "\u001b[0;32m/Library/Frameworks/Python.framework/Versions/3.9/lib/python3.9/site-packages/pandas/_libs/index.pyx\u001b[0m in \u001b[0;36mpandas._libs.index.IndexEngine.get_loc\u001b[0;34m()\u001b[0m\n",
      "\u001b[0;31mTypeError\u001b[0m: 'slice(None, None, None)' is an invalid key",
      "\nDuring handling of the above exception, another exception occurred:\n",
      "\u001b[0;31mKeyboardInterrupt\u001b[0m                         Traceback (most recent call last)",
      "\u001b[0;32m<ipython-input-9-fd8cd7668393>\u001b[0m in \u001b[0;36m<module>\u001b[0;34m\u001b[0m\n\u001b[1;32m    119\u001b[0m \u001b[0;34m\u001b[0m\u001b[0m\n\u001b[1;32m    120\u001b[0m \u001b[0;32mif\u001b[0m \u001b[0m__name__\u001b[0m \u001b[0;34m==\u001b[0m \u001b[0;34m\"__main__\"\u001b[0m\u001b[0;34m:\u001b[0m\u001b[0;34m\u001b[0m\u001b[0;34m\u001b[0m\u001b[0m\n\u001b[0;32m--> 121\u001b[0;31m     \u001b[0mmain\u001b[0m\u001b[0;34m(\u001b[0m\u001b[0;34m)\u001b[0m\u001b[0;34m\u001b[0m\u001b[0;34m\u001b[0m\u001b[0m\n\u001b[0m",
      "\u001b[0;32m<ipython-input-9-fd8cd7668393>\u001b[0m in \u001b[0;36mmain\u001b[0;34m()\u001b[0m\n\u001b[1;32m     19\u001b[0m         \u001b[0mprint\u001b[0m\u001b[0;34m(\u001b[0m\u001b[0mi\u001b[0m\u001b[0;34m)\u001b[0m\u001b[0;34m\u001b[0m\u001b[0;34m\u001b[0m\u001b[0m\n\u001b[1;32m     20\u001b[0m \u001b[0;34m\u001b[0m\u001b[0m\n\u001b[0;32m---> 21\u001b[0;31m         \u001b[0mplotData\u001b[0m\u001b[0;34m(\u001b[0m\u001b[0mi\u001b[0m\u001b[0;34m,\u001b[0m\u001b[0mgroup\u001b[0m\u001b[0;34m,\u001b[0m \u001b[0mpdf\u001b[0m\u001b[0;34m,\u001b[0m \u001b[0mOrderMonthlyInPlot\u001b[0m\u001b[0;34m)\u001b[0m\u001b[0;34m\u001b[0m\u001b[0;34m\u001b[0m\u001b[0m\n\u001b[0m\u001b[1;32m     22\u001b[0m         \u001b[0mpdf\u001b[0m\u001b[0;34m.\u001b[0m\u001b[0mclose\u001b[0m\u001b[0;34m(\u001b[0m\u001b[0;34m)\u001b[0m\u001b[0;34m\u001b[0m\u001b[0;34m\u001b[0m\u001b[0m\n\u001b[1;32m     23\u001b[0m \u001b[0;34m\u001b[0m\u001b[0m\n",
      "\u001b[0;32m<ipython-input-9-fd8cd7668393>\u001b[0m in \u001b[0;36mplotData\u001b[0;34m(i, group, pdf, OrderMonthlyInPlot)\u001b[0m\n\u001b[1;32m     42\u001b[0m       \u001b[0;31m#page_title = ax1.text(0.7, 1.08, 'Water Quality Data Factsheet',fontsize=8,style ='normal',color =\"black\",horizontalalignment='left',bbox ={'facecolor':'white',\u001b[0m\u001b[0;34m\u001b[0m\u001b[0;34m\u001b[0m\u001b[0;34m\u001b[0m\u001b[0m\n\u001b[1;32m     43\u001b[0m               \u001b[0;31m#'alpha':0.1, 'pad':0},verticalalignment='top', fontweight = 'bold',wrap=True)\u001b[0m\u001b[0;34m\u001b[0m\u001b[0;34m\u001b[0m\u001b[0;34m\u001b[0m\u001b[0m\n\u001b[0;32m---> 44\u001b[0;31m       \u001b[0mplot1\u001b[0m \u001b[0;34m=\u001b[0m \u001b[0msns\u001b[0m\u001b[0;34m.\u001b[0m\u001b[0mstripplot\u001b[0m\u001b[0;34m(\u001b[0m\u001b[0max\u001b[0m\u001b[0;34m=\u001b[0m\u001b[0max1\u001b[0m\u001b[0;34m,\u001b[0m\u001b[0mx\u001b[0m\u001b[0;34m=\u001b[0m\u001b[0;34m'Mon_Year'\u001b[0m\u001b[0;34m,\u001b[0m \u001b[0my\u001b[0m\u001b[0;34m=\u001b[0m\u001b[0;34m'Result_Value'\u001b[0m\u001b[0;34m,\u001b[0m \u001b[0mdata\u001b[0m\u001b[0;34m=\u001b[0m\u001b[0mgroup\u001b[0m\u001b[0;34m,\u001b[0m \u001b[0mjitter\u001b[0m\u001b[0;34m=\u001b[0m\u001b[0;32mFalse\u001b[0m\u001b[0;34m,\u001b[0m \u001b[0msize\u001b[0m \u001b[0;34m=\u001b[0m \u001b[0;36m1.5\u001b[0m\u001b[0;34m,\u001b[0m \u001b[0mcolor\u001b[0m\u001b[0;34m=\u001b[0m\u001b[0;34m\"black\"\u001b[0m\u001b[0;34m)\u001b[0m\u001b[0;34m\u001b[0m\u001b[0;34m\u001b[0m\u001b[0m\n\u001b[0m\u001b[1;32m     45\u001b[0m       \u001b[0mplot1\u001b[0m\u001b[0;34m.\u001b[0m\u001b[0mset_xlabel\u001b[0m\u001b[0;34m(\u001b[0m\u001b[0;34m\"\"\u001b[0m\u001b[0;34m,\u001b[0m \u001b[0msize\u001b[0m \u001b[0;34m=\u001b[0m \u001b[0;36m9\u001b[0m\u001b[0;34m)\u001b[0m\u001b[0;34m\u001b[0m\u001b[0;34m\u001b[0m\u001b[0m\n\u001b[1;32m     46\u001b[0m       \u001b[0;31m#plt.xticks(rotation = 0)\u001b[0m\u001b[0;34m\u001b[0m\u001b[0;34m\u001b[0m\u001b[0;34m\u001b[0m\u001b[0m\n",
      "\u001b[0;32m/Library/Frameworks/Python.framework/Versions/3.9/lib/python3.9/site-packages/seaborn/_decorators.py\u001b[0m in \u001b[0;36minner_f\u001b[0;34m(*args, **kwargs)\u001b[0m\n\u001b[1;32m     44\u001b[0m             )\n\u001b[1;32m     45\u001b[0m         \u001b[0mkwargs\u001b[0m\u001b[0;34m.\u001b[0m\u001b[0mupdate\u001b[0m\u001b[0;34m(\u001b[0m\u001b[0;34m{\u001b[0m\u001b[0mk\u001b[0m\u001b[0;34m:\u001b[0m \u001b[0marg\u001b[0m \u001b[0;32mfor\u001b[0m \u001b[0mk\u001b[0m\u001b[0;34m,\u001b[0m \u001b[0marg\u001b[0m \u001b[0;32min\u001b[0m \u001b[0mzip\u001b[0m\u001b[0;34m(\u001b[0m\u001b[0msig\u001b[0m\u001b[0;34m.\u001b[0m\u001b[0mparameters\u001b[0m\u001b[0;34m,\u001b[0m \u001b[0margs\u001b[0m\u001b[0;34m)\u001b[0m\u001b[0;34m}\u001b[0m\u001b[0;34m)\u001b[0m\u001b[0;34m\u001b[0m\u001b[0;34m\u001b[0m\u001b[0m\n\u001b[0;32m---> 46\u001b[0;31m         \u001b[0;32mreturn\u001b[0m \u001b[0mf\u001b[0m\u001b[0;34m(\u001b[0m\u001b[0;34m**\u001b[0m\u001b[0mkwargs\u001b[0m\u001b[0;34m)\u001b[0m\u001b[0;34m\u001b[0m\u001b[0;34m\u001b[0m\u001b[0m\n\u001b[0m\u001b[1;32m     47\u001b[0m     \u001b[0;32mreturn\u001b[0m \u001b[0minner_f\u001b[0m\u001b[0;34m\u001b[0m\u001b[0;34m\u001b[0m\u001b[0m\n\u001b[1;32m     48\u001b[0m \u001b[0;34m\u001b[0m\u001b[0m\n",
      "\u001b[0;32m/Library/Frameworks/Python.framework/Versions/3.9/lib/python3.9/site-packages/seaborn/categorical.py\u001b[0m in \u001b[0;36mstripplot\u001b[0;34m(x, y, hue, data, order, hue_order, jitter, dodge, orient, color, palette, size, edgecolor, linewidth, ax, **kwargs)\u001b[0m\n\u001b[1;32m   2817\u001b[0m                        linewidth=linewidth))\n\u001b[1;32m   2818\u001b[0m \u001b[0;34m\u001b[0m\u001b[0m\n\u001b[0;32m-> 2819\u001b[0;31m     \u001b[0mplotter\u001b[0m\u001b[0;34m.\u001b[0m\u001b[0mplot\u001b[0m\u001b[0;34m(\u001b[0m\u001b[0max\u001b[0m\u001b[0;34m,\u001b[0m \u001b[0mkwargs\u001b[0m\u001b[0;34m)\u001b[0m\u001b[0;34m\u001b[0m\u001b[0;34m\u001b[0m\u001b[0m\n\u001b[0m\u001b[1;32m   2820\u001b[0m     \u001b[0;32mreturn\u001b[0m \u001b[0max\u001b[0m\u001b[0;34m\u001b[0m\u001b[0;34m\u001b[0m\u001b[0m\n\u001b[1;32m   2821\u001b[0m \u001b[0;34m\u001b[0m\u001b[0m\n",
      "\u001b[0;32m/Library/Frameworks/Python.framework/Versions/3.9/lib/python3.9/site-packages/seaborn/categorical.py\u001b[0m in \u001b[0;36mplot\u001b[0;34m(self, ax, kws)\u001b[0m\n\u001b[1;32m   1158\u001b[0m     \u001b[0;32mdef\u001b[0m \u001b[0mplot\u001b[0m\u001b[0;34m(\u001b[0m\u001b[0mself\u001b[0m\u001b[0;34m,\u001b[0m \u001b[0max\u001b[0m\u001b[0;34m,\u001b[0m \u001b[0mkws\u001b[0m\u001b[0;34m)\u001b[0m\u001b[0;34m:\u001b[0m\u001b[0;34m\u001b[0m\u001b[0;34m\u001b[0m\u001b[0m\n\u001b[1;32m   1159\u001b[0m         \u001b[0;34m\"\"\"Make the plot.\"\"\"\u001b[0m\u001b[0;34m\u001b[0m\u001b[0;34m\u001b[0m\u001b[0m\n\u001b[0;32m-> 1160\u001b[0;31m         \u001b[0mself\u001b[0m\u001b[0;34m.\u001b[0m\u001b[0mdraw_stripplot\u001b[0m\u001b[0;34m(\u001b[0m\u001b[0max\u001b[0m\u001b[0;34m,\u001b[0m \u001b[0mkws\u001b[0m\u001b[0;34m)\u001b[0m\u001b[0;34m\u001b[0m\u001b[0;34m\u001b[0m\u001b[0m\n\u001b[0m\u001b[1;32m   1161\u001b[0m         \u001b[0mself\u001b[0m\u001b[0;34m.\u001b[0m\u001b[0madd_legend_data\u001b[0m\u001b[0;34m(\u001b[0m\u001b[0max\u001b[0m\u001b[0;34m)\u001b[0m\u001b[0;34m\u001b[0m\u001b[0;34m\u001b[0m\u001b[0m\n\u001b[1;32m   1162\u001b[0m         \u001b[0mself\u001b[0m\u001b[0;34m.\u001b[0m\u001b[0mannotate_axes\u001b[0m\u001b[0;34m(\u001b[0m\u001b[0max\u001b[0m\u001b[0;34m)\u001b[0m\u001b[0;34m\u001b[0m\u001b[0;34m\u001b[0m\u001b[0m\n",
      "\u001b[0;32m/Library/Frameworks/Python.framework/Versions/3.9/lib/python3.9/site-packages/seaborn/categorical.py\u001b[0m in \u001b[0;36mdraw_stripplot\u001b[0;34m(self, ax, kws)\u001b[0m\n\u001b[1;32m   1127\u001b[0m \u001b[0;34m\u001b[0m\u001b[0m\n\u001b[1;32m   1128\u001b[0m                 \u001b[0mstrip_data\u001b[0m \u001b[0;34m=\u001b[0m \u001b[0mgroup_data\u001b[0m\u001b[0;34m[\u001b[0m\u001b[0mhue_mask\u001b[0m\u001b[0;34m]\u001b[0m\u001b[0;34m\u001b[0m\u001b[0;34m\u001b[0m\u001b[0m\n\u001b[0;32m-> 1129\u001b[0;31m                 \u001b[0mpoint_colors\u001b[0m \u001b[0;34m=\u001b[0m \u001b[0mnp\u001b[0m\u001b[0;34m.\u001b[0m\u001b[0masarray\u001b[0m\u001b[0;34m(\u001b[0m\u001b[0mself\u001b[0m\u001b[0;34m.\u001b[0m\u001b[0mpoint_colors\u001b[0m\u001b[0;34m[\u001b[0m\u001b[0mi\u001b[0m\u001b[0;34m]\u001b[0m\u001b[0;34m[\u001b[0m\u001b[0mhue_mask\u001b[0m\u001b[0;34m]\u001b[0m\u001b[0;34m)\u001b[0m\u001b[0;34m\u001b[0m\u001b[0;34m\u001b[0m\u001b[0m\n\u001b[0m\u001b[1;32m   1130\u001b[0m \u001b[0;34m\u001b[0m\u001b[0m\n\u001b[1;32m   1131\u001b[0m                 \u001b[0;31m# Plot the points in centered positions\u001b[0m\u001b[0;34m\u001b[0m\u001b[0;34m\u001b[0m\u001b[0;34m\u001b[0m\u001b[0m\n",
      "\u001b[0;32m/Library/Frameworks/Python.framework/Versions/3.9/lib/python3.9/site-packages/seaborn/categorical.py\u001b[0m in \u001b[0;36mpoint_colors\u001b[0;34m(self)\u001b[0m\n\u001b[1;32m   1067\u001b[0m                 \u001b[0;31m# Use the same color for all points at this level\u001b[0m\u001b[0;34m\u001b[0m\u001b[0;34m\u001b[0m\u001b[0;34m\u001b[0m\u001b[0m\n\u001b[1;32m   1068\u001b[0m                 \u001b[0;31m# group_color = self.colors[i]\u001b[0m\u001b[0;34m\u001b[0m\u001b[0;34m\u001b[0m\u001b[0;34m\u001b[0m\u001b[0m\n\u001b[0;32m-> 1069\u001b[0;31m                 \u001b[0mgroup_colors\u001b[0m\u001b[0;34m[\u001b[0m\u001b[0;34m:\u001b[0m\u001b[0;34m]\u001b[0m \u001b[0;34m=\u001b[0m \u001b[0mi\u001b[0m\u001b[0;34m\u001b[0m\u001b[0;34m\u001b[0m\u001b[0m\n\u001b[0m\u001b[1;32m   1070\u001b[0m \u001b[0;34m\u001b[0m\u001b[0m\n\u001b[1;32m   1071\u001b[0m             \u001b[0;32melse\u001b[0m\u001b[0;34m:\u001b[0m\u001b[0;34m\u001b[0m\u001b[0;34m\u001b[0m\u001b[0m\n",
      "\u001b[0;32m/Library/Frameworks/Python.framework/Versions/3.9/lib/python3.9/site-packages/pandas/core/series.py\u001b[0m in \u001b[0;36m__setitem__\u001b[0;34m(self, key, value)\u001b[0m\n\u001b[1;32m   1076\u001b[0m                 ) from err\n\u001b[1;32m   1077\u001b[0m \u001b[0;34m\u001b[0m\u001b[0m\n\u001b[0;32m-> 1078\u001b[0;31m             \u001b[0;32mif\u001b[0m \u001b[0mcom\u001b[0m\u001b[0;34m.\u001b[0m\u001b[0mis_bool_indexer\u001b[0m\u001b[0;34m(\u001b[0m\u001b[0mkey\u001b[0m\u001b[0;34m)\u001b[0m\u001b[0;34m:\u001b[0m\u001b[0;34m\u001b[0m\u001b[0;34m\u001b[0m\u001b[0m\n\u001b[0m\u001b[1;32m   1079\u001b[0m                 \u001b[0mkey\u001b[0m \u001b[0;34m=\u001b[0m \u001b[0mcheck_bool_indexer\u001b[0m\u001b[0;34m(\u001b[0m\u001b[0mself\u001b[0m\u001b[0;34m.\u001b[0m\u001b[0mindex\u001b[0m\u001b[0;34m,\u001b[0m \u001b[0mkey\u001b[0m\u001b[0;34m)\u001b[0m\u001b[0;34m\u001b[0m\u001b[0;34m\u001b[0m\u001b[0m\n\u001b[1;32m   1080\u001b[0m                 \u001b[0mkey\u001b[0m \u001b[0;34m=\u001b[0m \u001b[0mnp\u001b[0m\u001b[0;34m.\u001b[0m\u001b[0masarray\u001b[0m\u001b[0;34m(\u001b[0m\u001b[0mkey\u001b[0m\u001b[0;34m,\u001b[0m \u001b[0mdtype\u001b[0m\u001b[0;34m=\u001b[0m\u001b[0mbool\u001b[0m\u001b[0;34m)\u001b[0m\u001b[0;34m\u001b[0m\u001b[0;34m\u001b[0m\u001b[0m\n",
      "\u001b[0;32m/Library/Frameworks/Python.framework/Versions/3.9/lib/python3.9/site-packages/pandas/core/common.py\u001b[0m in \u001b[0;36mis_bool_indexer\u001b[0;34m(key)\u001b[0m\n\u001b[1;32m    126\u001b[0m         \u001b[0;32mand\u001b[0m \u001b[0mconvert\u001b[0m \u001b[0mto\u001b[0m \u001b[0man\u001b[0m \u001b[0mndarray\u001b[0m\u001b[0;34m.\u001b[0m\u001b[0;34m\u001b[0m\u001b[0;34m\u001b[0m\u001b[0m\n\u001b[1;32m    127\u001b[0m     \"\"\"\n\u001b[0;32m--> 128\u001b[0;31m     if isinstance(key, (ABCSeries, np.ndarray, ABCIndex)) or (\n\u001b[0m\u001b[1;32m    129\u001b[0m         \u001b[0mis_array_like\u001b[0m\u001b[0;34m(\u001b[0m\u001b[0mkey\u001b[0m\u001b[0;34m)\u001b[0m \u001b[0;32mand\u001b[0m \u001b[0mis_extension_array_dtype\u001b[0m\u001b[0;34m(\u001b[0m\u001b[0mkey\u001b[0m\u001b[0;34m.\u001b[0m\u001b[0mdtype\u001b[0m\u001b[0;34m)\u001b[0m\u001b[0;34m\u001b[0m\u001b[0;34m\u001b[0m\u001b[0m\n\u001b[1;32m    130\u001b[0m     ):\n",
      "\u001b[0;32m/Library/Frameworks/Python.framework/Versions/3.9/lib/python3.9/site-packages/pandas/core/dtypes/generic.py\u001b[0m in \u001b[0;36m_check\u001b[0;34m(cls, inst)\u001b[0m\n\u001b[1;32m     41\u001b[0m     \u001b[0;31m# https://github.com/python/mypy/issues/1006\u001b[0m\u001b[0;34m\u001b[0m\u001b[0;34m\u001b[0m\u001b[0;34m\u001b[0m\u001b[0m\n\u001b[1;32m     42\u001b[0m     \u001b[0;31m# error: 'classmethod' used with a non-method\u001b[0m\u001b[0;34m\u001b[0m\u001b[0;34m\u001b[0m\u001b[0;34m\u001b[0m\u001b[0m\n\u001b[0;32m---> 43\u001b[0;31m     \u001b[0;34m@\u001b[0m\u001b[0mclassmethod\u001b[0m  \u001b[0;31m# type: ignore[misc]\u001b[0m\u001b[0;34m\u001b[0m\u001b[0;34m\u001b[0m\u001b[0m\n\u001b[0m\u001b[1;32m     44\u001b[0m     \u001b[0;32mdef\u001b[0m \u001b[0m_check\u001b[0m\u001b[0;34m(\u001b[0m\u001b[0mcls\u001b[0m\u001b[0;34m,\u001b[0m \u001b[0minst\u001b[0m\u001b[0;34m)\u001b[0m \u001b[0;34m->\u001b[0m \u001b[0mbool\u001b[0m\u001b[0;34m:\u001b[0m\u001b[0;34m\u001b[0m\u001b[0;34m\u001b[0m\u001b[0m\n\u001b[1;32m     45\u001b[0m         \u001b[0;32mreturn\u001b[0m \u001b[0mgetattr\u001b[0m\u001b[0;34m(\u001b[0m\u001b[0minst\u001b[0m\u001b[0;34m,\u001b[0m \u001b[0mattr\u001b[0m\u001b[0;34m,\u001b[0m \u001b[0;34m\"_typ\"\u001b[0m\u001b[0;34m)\u001b[0m \u001b[0;32min\u001b[0m \u001b[0mcomp\u001b[0m\u001b[0;34m\u001b[0m\u001b[0;34m\u001b[0m\u001b[0m\n",
      "\u001b[0;31mKeyboardInterrupt\u001b[0m: "
     ]
    },
    {
     "data": {
      "image/png": "[encoded data removed]",
      "text/plain": [
       "<Figure size 1170x827 with 1 Axes>"
      ]
     },
     "metadata": {},
     "output_type": "display_data"
    }
   ],
   "source": [
    "os.chdir(OutputDir)\n",
    "\n",
    "\n",
    "\n",
    "def main():\n",
    "    #grouped_df = data_concatenated.groupby('ParameterPlotName')\n",
    "    for i, group in data.groupby('record_code'):\n",
    "        if(len(group['Result_Value'])==0):\n",
    "            continue\n",
    "        if(DidChoose==True):\n",
    "            if(i in WhatChose==False):\n",
    "                continue    \n",
    "        OrderMonthly2=unique(group['Month'])\n",
    "        OrderMonthly = 'Jan Feb Mar Apr May Jun Jul Aug Sep Oct Nov Dec'\n",
    "        r = re.compile('|'.join([r'\\b%s\\b' % w for w in OrderMonthly2]), flags=re.I)\n",
    "        OrderMonthlyInPlot=r.findall(OrderMonthly)\n",
    "\n",
    "        \n",
    "        #pdf = PdfPages(i+'EDAplots'+'.pdf')\n",
    "        pdf = PdfPages(i+'EDAplots'+'.pdf')\n",
    "        print(i)\n",
    "        \n",
    "        plotData(i,group, pdf, OrderMonthlyInPlot)\n",
    "        pdf.close()\n",
    "        \n",
    "def plotData(i,group, pdf, OrderMonthlyInPlot):  \n",
    "    #grouped.get_group(\"Chloride (mgL)\")\n",
    "      sns.set(style=\"ticks\")\n",
    "      PROPS = {\n",
    "            'boxprops':{'facecolor':'none', 'edgecolor':'black'},\n",
    "            'medianprops':{'color':'black'},\n",
    "            'whiskerprops':{'color':'black'},\n",
    "            'capprops':{'color':'black'}}\n",
    "    \n",
    "#      page_title = plt.title(group['EDA_PlotsTitle'].value_counts().index.tolist()[0],fontsize=8,style ='normal',color =\"black\",horizontalalignment='center',bbox ={'facecolor':'white',\n",
    "#              'alpha':0.1, 'pad':0},verticalalignment='center', fontweight = 'bold',wrap=True)  \n",
    "        \n",
    "      fig1 = plt.figure(figsize=(11.7,8.27), dpi=100)       \n",
    "      plt.subplots_adjust(left=0.08, right=0.95, top=0.9, bottom=0.12,wspace=0.19, hspace = 0.24)\n",
    "      plt.suptitle(group['EDA_PlotsTitle'].value_counts().index.tolist()[0],fontweight ='bold',wrap=True,x=0.5,y=0.95)\n",
    "        \n",
    "      #plt.subplots_adjust(left=0.1, right=0.98, top=0.92, bottom=0.06,hspace=0, wspace=0.05)\n",
    "      ax1 = plt.subplot2grid((2, 2), (0, 0), rowspan = 1, colspan=1)\n",
    "      #page_title = ax1.text(0.7, 1.08, 'Water Quality Data Factsheet',fontsize=8,style ='normal',color =\"black\",horizontalalignment='left',bbox ={'facecolor':'white',\n",
    "              #'alpha':0.1, 'pad':0},verticalalignment='top', fontweight = 'bold',wrap=True)\n",
    "      plot1 = sns.stripplot(ax=ax1,x='Mon_Year', y='Result_Value', data=group, jitter=False, size = 1.5, color=\"black\")\n",
    "      plot1.set_xlabel(\"\", size = 9)\n",
    "      #plt.xticks(rotation = 0)\n",
    "      #ax1.xaxis.set_major_locator(mdates.MonthLocator(interval=1)) \n",
    "      #ax1.xaxis.set_major_locator(AutoMajorLocator())\n",
    "      ax1.xaxis.set_major_locator(AutoLocator())\n",
    "      \n",
    "      #ax.xaxis.set_minor_locator(ticker.AutoMinorLocator())\n",
    "      #ax1.xaxis.set_minor_locator(mdates.MonthLocator(interval=1))\n",
    "      #ax1.xaxis.set_minor_locator(AutoMinorLocator())\n",
    "      #plot1.set_xlim([datetime.date(2014, 1, 26), datetime.date(2014, 2, 1)])\n",
    "        # Title of the page\n",
    "      #plt.axis('off')\n",
    "\n",
    "    \n",
    "      plot1.set_ylabel(group['ParameterPlotName'].value_counts().index.tolist()[0], size = 10)\n",
    "      plt.xticks(fontsize=7)\n",
    "      plt.yticks(fontsize=8)\n",
    "      ax1.set_title('', fontweight ='bold', pad =15)\n",
    "      #plt.xticks(rotation = 90) \n",
    "      plt.xticks(rotation = 30) \n",
    "      #ax1.set_title('Data Samples', fontweight ='bold', pad =12)\n",
    "      plt.title('(a) Data Samples', y=-0.22, fontsize=10) \n",
    "    \n",
    "      ax2 = plt.subplot2grid((2, 2), (0, 1), rowspan = 1, colspan=1)\n",
    "      plot2 = sns.boxplot(ax=ax2, x='Month', y='Result_Value', data = group, linewidth=0.5,color='w', showfliers=False,  width = 0.6, **PROPS, order = OrderMonthlyInPlot)#, positions=[0,2,4,6])\n",
    "      plot2.set_xlabel(\"\", size = 10)\n",
    "      plot2.set_ylabel(group['ParameterPlotName'].value_counts().index.tolist()[0], size = 10)\n",
    "      plt.xticks(fontsize=7)\n",
    "      plt.yticks(fontsize=8)\n",
    "      ax2.set_title('',fontweight ='bold', pad=10)\n",
    "      plt.xticks(rotation = 0)\n",
    "      #ax2.set_title('Panel 2', fontweight ='bold', pad =15)\n",
    "      #ax2.set_title('Monthly Boxplots', fontweight ='bold', pad =12)\n",
    "      plt.title('(b) Monthly Boxplots', y=-0.2, fontsize=10)\n",
    "      \n",
    "    \n",
    "    \n",
    "           \n",
    "    \n",
    "    \n",
    "      ax3 = plt.subplot2grid((2, 2), (1, 0), rowspan = 1, colspan=1)\n",
    "      plot3 = sns.boxplot(ax=ax3, x='Year', y='Result_Value', data = group, linewidth=0.5,color='w', showfliers=False,  width = 0.6, **PROPS)#, positions=[0,2,4,6])\n",
    "      plot3.set_xlabel(\"\", size = 10)\n",
    "      plot3.set_ylabel(group['ParameterPlotName'].value_counts().index.tolist()[0], size = 10)\n",
    "      plt.xticks(fontsize=7)\n",
    "      plt.yticks(fontsize=8)\n",
    "      ax3.set_title('',fontweight ='bold', pad=10)\n",
    "      plt.xticks(rotation = 90)\n",
    "      #ax3.set_title('Panel 3', fontweight ='bold', pad =15)\n",
    "      #ax3.set_title('Annual Boxplots', fontweight ='bold', pad =12)\n",
    "      plt.title('(c) Annual Boxplots', y=-0.24, fontsize=10)\n",
    "        \n",
    "      ax4 = plt.subplot2grid((2, 2), (1, 1), rowspan = 1, colspan=1)\n",
    "      x = group['Result_Value']\n",
    "      plt.xticks(fontsize=7)\n",
    "      plt.yticks(fontsize=8)\n",
    "      #x = 'Result_Value'\n",
    "      #norm_cdf = scipy.stats.norm.cdf(x)\n",
    "      #plot4 = sns.lineplot(ax= ax4,x= x, y= norm_cdf)\n",
    "      ecdf = ECDF(x)\n",
    "      print('P(x<20): %.3f' % ecdf(20))\n",
    "      print('P(x<40): %.3f' % ecdf(40))\n",
    "      print('P(x<60): %.3f' % ecdf(60)) \n",
    "      plot4 = sns.lineplot(ax= ax4,x= ecdf.x, y= ecdf.y)\n",
    "      plot4.set_xlabel(group['ParameterPlotName'].value_counts().index.tolist()[0], size = 10)\n",
    "      #plot4.set_xlabel(\"\", size = 10)\n",
    "      plot4.set_ylabel(\"Cumulative Frequency\", size = 10)\n",
    "      #ax4.set_title('Empirical CDF', fontweight ='bold', pad =12)\n",
    "      plt.title('(d) Empirical CDF', y=-0.24, fontsize=10)\n",
    "    \n",
    "      pdf.savefig(fig1)\n",
    "      plt.close()\n",
    "    \n",
    "     \n",
    "    \n",
    "if __name__ == \"__main__\":\n",
    "    main()    "
   ]
  },
  {
   "cell_type": "code",
   "execution_count": null,
   "id": "8ee2f70a",
   "metadata": {},
   "outputs": [],
   "source": [
    "import scipy\n",
    "#data['cdf'] = data.rank(method = 'average', pct = True)\n",
    "#data.sort_values('Result_Value').plot(x = 'Result_Value', y = 'cdf', grid = True)\n",
    "x = data['Result_Value']\n",
    "norm_cdf = scipy.stats.norm.cdf(x)\n",
    "sns.lineplot(x=x, y=norm_cdf)\n",
    "plt.show()"
   ]
  },
  {
   "cell_type": "code",
   "execution_count": null,
   "id": "3e42b088",
   "metadata": {},
   "outputs": [],
   "source": [
    "data.dtypes"
   ]
  },
  {
   "cell_type": "code",
   "execution_count": 141,
   "id": "5ac587f2",
   "metadata": {},
   "outputs": [],
   "source": [
    "q=u\"\\N{DEGREE SIGN}\""
   ]
  },
  {
   "cell_type": "code",
   "execution_count": 45,
   "id": "a0620f16",
   "metadata": {},
   "outputs": [
    {
     "name": "stdout",
     "output_type": "stream",
     "text": [
      "°\n"
     ]
    }
   ],
   "source": [
    "print(q)"
   ]
  },
  {
   "cell_type": "code",
   "execution_count": 48,
   "id": "f6f3efd4",
   "metadata": {},
   "outputs": [],
   "source": [
    "q=\"mim0C\""
   ]
  },
  {
   "cell_type": "code",
   "execution_count": 53,
   "id": "414f2106",
   "metadata": {},
   "outputs": [
    {
     "ename": "AttributeError",
     "evalue": "'str' object has no attribute 'str'",
     "output_type": "error",
     "traceback": [
      "\u001b[1;31m---------------------------------------------------------------------------\u001b[0m",
      "\u001b[1;31mAttributeError\u001b[0m                            Traceback (most recent call last)",
      "\u001b[1;32m<ipython-input-53-aae0d8cbc5cf>\u001b[0m in \u001b[0;36m<module>\u001b[1;34m\u001b[0m\n\u001b[1;32m----> 1\u001b[1;33m \u001b[0mq\u001b[0m\u001b[1;33m.\u001b[0m\u001b[0mstr\u001b[0m\u001b[1;33m.\u001b[0m\u001b[0mreplace\u001b[0m\u001b[1;33m(\u001b[0m\u001b[1;34m'0'\u001b[0m\u001b[1;33m,\u001b[0m\u001b[1;34m'°'\u001b[0m\u001b[1;33m)\u001b[0m\u001b[1;33m\u001b[0m\u001b[1;33m\u001b[0m\u001b[0m\n\u001b[0m",
      "\u001b[1;31mAttributeError\u001b[0m: 'str' object has no attribute 'str'"
     ]
    }
   ],
   "source": [
    "q.str.replace('0','°')"
   ]
  },
  {
   "cell_type": "code",
   "execution_count": 51,
   "id": "eda62a84",
   "metadata": {},
   "outputs": [
    {
     "name": "stdout",
     "output_type": "stream",
     "text": [
      "°\n"
     ]
    }
   ],
   "source": [
    "print((u'\\xb0'))"
   ]
  },
  {
   "cell_type": "code",
   "execution_count": 19,
   "id": "7fec412f",
   "metadata": {},
   "outputs": [
    {
     "data": {
      "text/plain": [
       "['Jan', 'Feb', 'Apr', 'Jun', 'Jul', 'Aug', 'Sep', 'Oct', 'Nov']"
      ]
     },
     "execution_count": 19,
     "metadata": {},
     "output_type": "execute_result"
    }
   ],
   "source": [
    "#OrderMonthly = ['Jan','Feb','Mar','Apr','May','Jun','Jul','Aug','Sep','Oct','Nov','Dec']\n",
    "OrderMonthly2 = ['Jan','Feb','Apr','Jun','Jul','Aug','Sep','Oct','Nov']\n",
    "OrderMonthly = 'Jan Feb Mar Apr May Jun Jul Aug Sep Oct Nov Dec'\n",
    "r = re.compile('|'.join([r'\\b%s\\b' % w for w in OrderMonthly2]), flags=re.I)\n",
    "OrderMonthlyInPlot=r.findall(OrderMonthly)"
   ]
  },
  {
   "cell_type": "code",
   "execution_count": null,
   "id": "aware-grocery",
   "metadata": {},
   "outputs": [],
   "source": []
  }
 ],
 "metadata": {
  "kernelspec": {
   "display_name": "Python 3",
   "language": "python",
   "name": "python3"
  },
  "language_info": {
   "codemirror_mode": {
    "name": "ipython",
    "version": 3
   },
   "file_extension": ".py",
   "mimetype": "text/x-python",
   "name": "python",
   "nbconvert_exporter": "python",
   "pygments_lexer": "ipython3",
   "version": "3.9.1"
  }
 },
 "nbformat": 4,
 "nbformat_minor": 5
}
